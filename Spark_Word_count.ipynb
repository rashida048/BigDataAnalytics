{
  "nbformat": 4,
  "nbformat_minor": 0,
  "metadata": {
    "colab": {
      "name": "Spark_Word_count.ipynb",
      "provenance": [],
      "authorship_tag": "ABX9TyNZULxWXXEcvMGLzYCUPe/x",
      "include_colab_link": true
    },
    "kernelspec": {
      "name": "python3",
      "display_name": "Python 3"
    },
    "language_info": {
      "name": "python"
    }
  },
  "cells": [
    {
      "cell_type": "markdown",
      "metadata": {
        "id": "view-in-github",
        "colab_type": "text"
      },
      "source": [
        "<a href=\"https://colab.research.google.com/github/rashida048/BigDataAnalytics/blob/master/Spark_Word_count.ipynb\" target=\"_parent\"><img src=\"https://colab.research.google.com/assets/colab-badge.svg\" alt=\"Open In Colab\"/></a>"
      ]
    },
    {
      "cell_type": "code",
      "execution_count": 1,
      "metadata": {
        "colab": {
          "base_uri": "https://localhost:8080/"
        },
        "id": "mipQG5adknoO",
        "outputId": "13bbf474-bff1-40a9-c672-0337cbf68b73"
      },
      "outputs": [
        {
          "output_type": "stream",
          "name": "stdout",
          "text": [
            "Requirement already satisfied: pyspark in /usr/local/lib/python3.7/dist-packages (3.2.1)\n",
            "Requirement already satisfied: py4j==0.10.9.3 in /usr/local/lib/python3.7/dist-packages (from pyspark) (0.10.9.3)\n"
          ]
        }
      ],
      "source": [
        "pip install pyspark"
      ]
    },
    {
      "cell_type": "code",
      "source": [
        "import pyspark\n",
        "from pyspark import SparkContext"
      ],
      "metadata": {
        "id": "SAATAz6ilzFM"
      },
      "execution_count": 2,
      "outputs": []
    },
    {
      "cell_type": "code",
      "source": [
        "sc = SparkContext.getOrCreate()\n",
        "lines = sc.textFile(\"alice_in_wonderland.txt\")"
      ],
      "metadata": {
        "id": "Azs7tDLOnI-p"
      },
      "execution_count": 4,
      "outputs": []
    },
    {
      "cell_type": "code",
      "source": [
        "lines.take(4)"
      ],
      "metadata": {
        "colab": {
          "base_uri": "https://localhost:8080/"
        },
        "id": "fN6N0Y1LnV0_",
        "outputId": "4d87b37d-c647-4ff2-eba5-d1daf23b1122"
      },
      "execution_count": 16,
      "outputs": [
        {
          "output_type": "execute_result",
          "data": {
            "text/plain": [
              "[\"Alice's Adventures in Wonderland\",\n",
              " '',\n",
              " \"                ALICE'S ADVENTURES IN WONDERLAND\",\n",
              " '']"
            ]
          },
          "metadata": {},
          "execution_count": 16
        }
      ]
    },
    {
      "cell_type": "code",
      "source": [
        "words = lines.flatMap(lambda x: x.split(' '))\n",
        "words.take(2)"
      ],
      "metadata": {
        "colab": {
          "base_uri": "https://localhost:8080/"
        },
        "id": "zq_rl2x0n0fP",
        "outputId": "cd90f296-bb7b-4158-d411-5962a2939c2c"
      },
      "execution_count": 17,
      "outputs": [
        {
          "output_type": "execute_result",
          "data": {
            "text/plain": [
              "[\"Alice's\", 'Adventures']"
            ]
          },
          "metadata": {},
          "execution_count": 17
        }
      ]
    },
    {
      "cell_type": "code",
      "source": [
        "wordsAsTuples = words.map(lambda x: (x, 1))\n",
        "wordsAsTuples.take(2)"
      ],
      "metadata": {
        "colab": {
          "base_uri": "https://localhost:8080/"
        },
        "id": "n3hfmIjmn_8D",
        "outputId": "96e54ff6-9bed-47fc-f16c-03c0411d4635"
      },
      "execution_count": 18,
      "outputs": [
        {
          "output_type": "execute_result",
          "data": {
            "text/plain": [
              "[(\"Alice's\", 1), ('Adventures', 1)]"
            ]
          },
          "metadata": {},
          "execution_count": 18
        }
      ]
    },
    {
      "cell_type": "code",
      "source": [
        "counts = wordsAsTuples.reduceByKey(lambda x, y: x+y)\n",
        "counts.take(1)"
      ],
      "metadata": {
        "colab": {
          "base_uri": "https://localhost:8080/"
        },
        "id": "TGiDWJX9D7PA",
        "outputId": "c2fc54c6-31c7-4162-ef1b-9817eb52cfff"
      },
      "execution_count": 19,
      "outputs": [
        {
          "output_type": "execute_result",
          "data": {
            "text/plain": [
              "[(\"Alice's\", 9)]"
            ]
          },
          "metadata": {},
          "execution_count": 19
        }
      ]
    },
    {
      "cell_type": "code",
      "source": [
        "counts.top(20, lambda x: x[1])"
      ],
      "metadata": {
        "colab": {
          "base_uri": "https://localhost:8080/"
        },
        "id": "Y4SzI3eIEEku",
        "outputId": "204b2a75-3ccf-48a1-c0a4-5c9f3c9b7159"
      },
      "execution_count": 20,
      "outputs": [
        {
          "output_type": "execute_result",
          "data": {
            "text/plain": [
              "[('', 6050),\n",
              " ('the', 1507),\n",
              " ('and', 714),\n",
              " ('to', 703),\n",
              " ('a', 606),\n",
              " ('of', 490),\n",
              " ('she', 484),\n",
              " ('said', 416),\n",
              " ('it', 346),\n",
              " ('in', 345),\n",
              " ('was', 328),\n",
              " ('I', 261),\n",
              " ('you', 252),\n",
              " ('as', 237),\n",
              " ('Alice', 221),\n",
              " ('that', 213),\n",
              " ('her', 203),\n",
              " ('at', 197),\n",
              " ('had', 175),\n",
              " ('with', 167)]"
            ]
          },
          "metadata": {},
          "execution_count": 20
        }
      ]
    },
    {
      "cell_type": "code",
      "source": [
        "counts.filter(lambda x: x[0] !='').top(20, lambda x: x[1])"
      ],
      "metadata": {
        "colab": {
          "base_uri": "https://localhost:8080/"
        },
        "id": "C1V93jKHEbZs",
        "outputId": "e2b2784a-40ef-4866-a7cc-dab027dcc93b"
      },
      "execution_count": 22,
      "outputs": [
        {
          "output_type": "execute_result",
          "data": {
            "text/plain": [
              "[('the', 1507),\n",
              " ('and', 714),\n",
              " ('to', 703),\n",
              " ('a', 606),\n",
              " ('of', 490),\n",
              " ('she', 484),\n",
              " ('said', 416),\n",
              " ('it', 346),\n",
              " ('in', 345),\n",
              " ('was', 328),\n",
              " ('I', 261),\n",
              " ('you', 252),\n",
              " ('as', 237),\n",
              " ('Alice', 221),\n",
              " ('that', 213),\n",
              " ('her', 203),\n",
              " ('at', 197),\n",
              " ('had', 175),\n",
              " ('with', 167),\n",
              " ('all', 150)]"
            ]
          },
          "metadata": {},
          "execution_count": 22
        }
      ]
    },
    {
      "cell_type": "code",
      "source": [
        "# We create here an example text data. \n",
        "a = [\"What Will It Take for BU Commuters to Leave Their Cars for the MBTA? University boosts T pass subsidies to cover half the cost, raises parking fees, all part of broader strategy to build a greener BU\"]\n",
        "a"
      ],
      "metadata": {
        "colab": {
          "base_uri": "https://localhost:8080/"
        },
        "id": "uEf1__A5Emwb",
        "outputId": "b76ae677-4ecb-4dc4-f781-d409e3d8fb66"
      },
      "execution_count": 23,
      "outputs": [
        {
          "output_type": "execute_result",
          "data": {
            "text/plain": [
              "['What Will It Take for BU Commuters to Leave Their Cars for the MBTA? University boosts T pass subsidies to cover half the cost, raises parking fees, all part of broader strategy to build a greener BU']"
            ]
          },
          "metadata": {},
          "execution_count": 23
        }
      ]
    },
    {
      "cell_type": "code",
      "source": [
        "rdd = sc.parallelize(a)\n",
        "rdd"
      ],
      "metadata": {
        "colab": {
          "base_uri": "https://localhost:8080/"
        },
        "id": "Yym3Gd5QE-ag",
        "outputId": "f5b54fb0-d52c-4256-c0ed-ab90da1c83cf"
      },
      "execution_count": 24,
      "outputs": [
        {
          "output_type": "execute_result",
          "data": {
            "text/plain": [
              "ParallelCollectionRDD[17] at readRDDFromFile at PythonRDD.scala:274"
            ]
          },
          "metadata": {},
          "execution_count": 24
        }
      ]
    },
    {
      "cell_type": "code",
      "source": [
        "words = rdd.flatMap(lambda x: x.split(' '))\n",
        "words"
      ],
      "metadata": {
        "colab": {
          "base_uri": "https://localhost:8080/"
        },
        "id": "_iFD--MiFDkr",
        "outputId": "7029b550-5f67-45a9-9432-ead4084fcdea"
      },
      "execution_count": 25,
      "outputs": [
        {
          "output_type": "execute_result",
          "data": {
            "text/plain": [
              "PythonRDD[18] at RDD at PythonRDD.scala:53"
            ]
          },
          "metadata": {},
          "execution_count": 25
        }
      ]
    },
    {
      "cell_type": "code",
      "source": [
        "words.take(5)"
      ],
      "metadata": {
        "colab": {
          "base_uri": "https://localhost:8080/"
        },
        "id": "NaM-WX2rIdzk",
        "outputId": "d4b00749-4a42-44d5-99bc-e3ae65406f99"
      },
      "execution_count": 26,
      "outputs": [
        {
          "output_type": "execute_result",
          "data": {
            "text/plain": [
              "['What', 'Will', 'It', 'Take', 'for']"
            ]
          },
          "metadata": {},
          "execution_count": 26
        }
      ]
    },
    {
      "cell_type": "code",
      "source": [
        "counts = rdd.flatMap(lambda x: x.split(' ')).map(lambda x: (x, 1))\\\n",
        ".reduceByKey(lambda x, y: x+y)"
      ],
      "metadata": {
        "id": "xPT8n1udIg1V"
      },
      "execution_count": 29,
      "outputs": []
    },
    {
      "cell_type": "code",
      "source": [
        "counts.collect()"
      ],
      "metadata": {
        "colab": {
          "base_uri": "https://localhost:8080/"
        },
        "id": "gLV7zD7vJAGY",
        "outputId": "b171b062-3cfa-4393-a967-e2b826df846c"
      },
      "execution_count": 30,
      "outputs": [
        {
          "output_type": "execute_result",
          "data": {
            "text/plain": [
              "[('What', 1),\n",
              " ('Will', 1),\n",
              " ('It', 1),\n",
              " ('Cars', 1),\n",
              " ('University', 1),\n",
              " ('pass', 1),\n",
              " ('of', 1),\n",
              " ('broader', 1),\n",
              " ('greener', 1),\n",
              " ('Take', 1),\n",
              " ('for', 2),\n",
              " ('BU', 2),\n",
              " ('Commuters', 1),\n",
              " ('to', 3),\n",
              " ('Leave', 1),\n",
              " ('Their', 1),\n",
              " ('the', 2),\n",
              " ('MBTA?', 1),\n",
              " ('boosts', 1),\n",
              " ('T', 1),\n",
              " ('subsidies', 1),\n",
              " ('cover', 1),\n",
              " ('half', 1),\n",
              " ('cost,', 1),\n",
              " ('raises', 1),\n",
              " ('parking', 1),\n",
              " ('fees,', 1),\n",
              " ('all', 1),\n",
              " ('part', 1),\n",
              " ('strategy', 1),\n",
              " ('build', 1),\n",
              " ('a', 1)]"
            ]
          },
          "metadata": {},
          "execution_count": 30
        }
      ]
    },
    {
      "cell_type": "code",
      "source": [
        "counts.top(5)"
      ],
      "metadata": {
        "colab": {
          "base_uri": "https://localhost:8080/"
        },
        "id": "SpuaWPsGJHPj",
        "outputId": "e3ad4ba0-da8c-453f-a524-f82fb5533c02"
      },
      "execution_count": 31,
      "outputs": [
        {
          "output_type": "execute_result",
          "data": {
            "text/plain": [
              "[('to', 3), ('the', 2), ('subsidies', 1), ('strategy', 1), ('raises', 1)]"
            ]
          },
          "metadata": {},
          "execution_count": 31
        }
      ]
    },
    {
      "cell_type": "code",
      "source": [
        "sc.parallelize([10, 4, 2, 12, 3]).top(2)"
      ],
      "metadata": {
        "colab": {
          "base_uri": "https://localhost:8080/"
        },
        "id": "-TOc5NM0JQVZ",
        "outputId": "f91816af-9eaf-4a8c-c485-6702053b46d9"
      },
      "execution_count": 32,
      "outputs": [
        {
          "output_type": "execute_result",
          "data": {
            "text/plain": [
              "[12, 10]"
            ]
          },
          "metadata": {},
          "execution_count": 32
        }
      ]
    },
    {
      "cell_type": "code",
      "source": [
        "sc.parallelize([2, 3, 4, 5, 6, 7], 2).top(2)"
      ],
      "metadata": {
        "colab": {
          "base_uri": "https://localhost:8080/"
        },
        "id": "f2JnAgo5JWn6",
        "outputId": "bf984668-6477-4c1c-cd42-f9dc8bd3cef8"
      },
      "execution_count": 33,
      "outputs": [
        {
          "output_type": "execute_result",
          "data": {
            "text/plain": [
              "[7, 6]"
            ]
          },
          "metadata": {},
          "execution_count": 33
        }
      ]
    },
    {
      "cell_type": "code",
      "source": [
        "sc.parallelize([10, 4, 2, 12, 3]).top(3, key=str)"
      ],
      "metadata": {
        "colab": {
          "base_uri": "https://localhost:8080/"
        },
        "id": "kaEFU350Jb2q",
        "outputId": "ce8a06f8-d3e0-4245-a31e-3087a838f598"
      },
      "execution_count": 34,
      "outputs": [
        {
          "output_type": "execute_result",
          "data": {
            "text/plain": [
              "[4, 3, 2]"
            ]
          },
          "metadata": {},
          "execution_count": 34
        }
      ]
    },
    {
      "cell_type": "code",
      "source": [
        "rdd1=sc.parallelize([('a', 10), ('c', 4), ('z', 2), ('d', 12)])"
      ],
      "metadata": {
        "id": "rwdcVXTzJjMR"
      },
      "execution_count": 35,
      "outputs": []
    },
    {
      "cell_type": "code",
      "source": [
        "rdd1.top(3, key=lambda x: x[1])"
      ],
      "metadata": {
        "colab": {
          "base_uri": "https://localhost:8080/"
        },
        "id": "8GB0r99WJ6u0",
        "outputId": "82e5e00c-67b0-4a80-a811-b6f734ce7560"
      },
      "execution_count": 36,
      "outputs": [
        {
          "output_type": "execute_result",
          "data": {
            "text/plain": [
              "[('d', 12), ('a', 10), ('c', 4)]"
            ]
          },
          "metadata": {},
          "execution_count": 36
        }
      ]
    },
    {
      "cell_type": "code",
      "source": [
        "rdd1.top(3, key=lambda x: x[0])"
      ],
      "metadata": {
        "colab": {
          "base_uri": "https://localhost:8080/"
        },
        "id": "uvRDEijqJ-xP",
        "outputId": "86200648-9b5e-46af-9331-65c5fce18974"
      },
      "execution_count": 37,
      "outputs": [
        {
          "output_type": "execute_result",
          "data": {
            "text/plain": [
              "[('z', 2), ('d', 12), ('c', 4)]"
            ]
          },
          "metadata": {},
          "execution_count": 37
        }
      ]
    },
    {
      "cell_type": "code",
      "source": [
        "rdd1.top(3, lambda x: x[1])"
      ],
      "metadata": {
        "colab": {
          "base_uri": "https://localhost:8080/"
        },
        "id": "To4SUxHmKDsS",
        "outputId": "65929603-6707-4e13-80fd-f289b6a6a6ec"
      },
      "execution_count": 38,
      "outputs": [
        {
          "output_type": "execute_result",
          "data": {
            "text/plain": [
              "[('d', 12), ('a', 10), ('c', 4)]"
            ]
          },
          "metadata": {},
          "execution_count": 38
        }
      ]
    },
    {
      "cell_type": "code",
      "source": [
        "rdd1.top(3)"
      ],
      "metadata": {
        "colab": {
          "base_uri": "https://localhost:8080/"
        },
        "id": "_24T3aEAKPhF",
        "outputId": "2f6842d9-1ca0-4cf6-da90-0b1dac057743"
      },
      "execution_count": 39,
      "outputs": [
        {
          "output_type": "execute_result",
          "data": {
            "text/plain": [
              "[('z', 2), ('d', 12), ('c', 4)]"
            ]
          },
          "metadata": {},
          "execution_count": 39
        }
      ]
    },
    {
      "cell_type": "code",
      "source": [
        "rdd1.top(3, str)"
      ],
      "metadata": {
        "colab": {
          "base_uri": "https://localhost:8080/"
        },
        "id": "4O26B6S6KSDD",
        "outputId": "8c1b2c07-949f-416b-bb6f-2b73f0dcb4ad"
      },
      "execution_count": 40,
      "outputs": [
        {
          "output_type": "execute_result",
          "data": {
            "text/plain": [
              "[('z', 2), ('d', 12), ('c', 4)]"
            ]
          },
          "metadata": {},
          "execution_count": 40
        }
      ]
    },
    {
      "cell_type": "code",
      "source": [
        ""
      ],
      "metadata": {
        "id": "8FAaScWyKV_6"
      },
      "execution_count": null,
      "outputs": []
    },
    {
      "cell_type": "markdown",
      "source": [
        "Part3"
      ],
      "metadata": {
        "id": "25-uG3qNtCIl"
      }
    },
    {
      "cell_type": "code",
      "source": [
        "rdd = sc.parallelize([\"b\", \"a\", \"c\"])\n",
        "rdd"
      ],
      "metadata": {
        "colab": {
          "base_uri": "https://localhost:8080/"
        },
        "id": "QjnY0WCDtElz",
        "outputId": "641ea471-bd50-4bc2-ca47-77bf40ae8a12"
      },
      "execution_count": 5,
      "outputs": [
        {
          "output_type": "execute_result",
          "data": {
            "text/plain": [
              "ParallelCollectionRDD[2] at readRDDFromFile at PythonRDD.scala:274"
            ]
          },
          "metadata": {},
          "execution_count": 5
        }
      ]
    },
    {
      "cell_type": "code",
      "source": [
        "sorted(rdd.map(lambda x: (x, 1)).collect())"
      ],
      "metadata": {
        "colab": {
          "base_uri": "https://localhost:8080/"
        },
        "id": "I0L71erXtNci",
        "outputId": "d00c1150-f70b-4c02-cd6a-56f0b0698733"
      },
      "execution_count": 6,
      "outputs": [
        {
          "output_type": "execute_result",
          "data": {
            "text/plain": [
              "[('a', 1), ('b', 1), ('c', 1)]"
            ]
          },
          "metadata": {},
          "execution_count": 6
        }
      ]
    },
    {
      "cell_type": "code",
      "source": [
        "rdd = sc.parallelize([1, 4, 7, 8, 9])\n",
        "rdd.filter(lambda x: x%2 == 0).collect()"
      ],
      "metadata": {
        "colab": {
          "base_uri": "https://localhost:8080/"
        },
        "id": "LJp5Bb9WterB",
        "outputId": "af7da424-5e93-43cf-b28d-c81670e55b64"
      },
      "execution_count": 7,
      "outputs": [
        {
          "output_type": "execute_result",
          "data": {
            "text/plain": [
              "[4, 8]"
            ]
          },
          "metadata": {},
          "execution_count": 7
        }
      ]
    },
    {
      "cell_type": "code",
      "source": [
        "rdd.flatMap(lambda x: range(1, x)).collect()"
      ],
      "metadata": {
        "colab": {
          "base_uri": "https://localhost:8080/"
        },
        "id": "JWrz3ssdtsly",
        "outputId": "80f939d7-f510-4763-bd48-674657bb2630"
      },
      "execution_count": 8,
      "outputs": [
        {
          "output_type": "execute_result",
          "data": {
            "text/plain": [
              "[1, 2, 3, 1, 2, 3, 4, 5, 6, 1, 2, 3, 4, 5, 6, 7, 1, 2, 3, 4, 5, 6, 7, 8]"
            ]
          },
          "metadata": {},
          "execution_count": 8
        }
      ]
    },
    {
      "cell_type": "markdown",
      "source": [
        "union(rdd)"
      ],
      "metadata": {
        "id": "oeSx9I7qvbxn"
      }
    },
    {
      "cell_type": "code",
      "source": [
        "rdd = sc.parallelize([1, 2, 3])\n",
        "rdd.union(rdd).collect()"
      ],
      "metadata": {
        "colab": {
          "base_uri": "https://localhost:8080/"
        },
        "id": "GhOm3c7hvddP",
        "outputId": "3b876e63-8378-468e-fc85-927a531aa335"
      },
      "execution_count": 9,
      "outputs": [
        {
          "output_type": "execute_result",
          "data": {
            "text/plain": [
              "[1, 2, 3, 1, 2, 3]"
            ]
          },
          "metadata": {},
          "execution_count": 9
        }
      ]
    },
    {
      "cell_type": "code",
      "source": [
        ""
      ],
      "metadata": {
        "id": "NKdU6gZLvlPb"
      },
      "execution_count": null,
      "outputs": []
    },
    {
      "cell_type": "markdown",
      "source": [
        "distinct([numPartitions])"
      ],
      "metadata": {
        "id": "EQREUFWkvqgB"
      }
    },
    {
      "cell_type": "code",
      "source": [
        "sc.parallelize([1, 1, 1, 2, 3]).distinct().collect()"
      ],
      "metadata": {
        "colab": {
          "base_uri": "https://localhost:8080/"
        },
        "id": "wuLNdQ0JvuaP",
        "outputId": "f8bd11e6-d565-4a72-bd71-b603204d25b8"
      },
      "execution_count": 11,
      "outputs": [
        {
          "output_type": "execute_result",
          "data": {
            "text/plain": [
              "[2, 1, 3]"
            ]
          },
          "metadata": {},
          "execution_count": 11
        }
      ]
    },
    {
      "cell_type": "code",
      "source": [
        ""
      ],
      "metadata": {
        "id": "v2ncSzM-vz3P"
      },
      "execution_count": null,
      "outputs": []
    },
    {
      "cell_type": "markdown",
      "source": [
        "cartesian(other)"
      ],
      "metadata": {
        "id": "75i0Cxvrv6bL"
      }
    },
    {
      "cell_type": "code",
      "source": [
        "rdd.cartesian(rdd).collect()"
      ],
      "metadata": {
        "colab": {
          "base_uri": "https://localhost:8080/"
        },
        "id": "Q7wVdwPrv8x7",
        "outputId": "4bc2273f-7fa7-4c01-b69e-5a6c3e199ada"
      },
      "execution_count": 12,
      "outputs": [
        {
          "output_type": "execute_result",
          "data": {
            "text/plain": [
              "[(1, 1), (1, 2), (1, 3), (2, 1), (3, 1), (2, 2), (2, 3), (3, 2), (3, 3)]"
            ]
          },
          "metadata": {},
          "execution_count": 12
        }
      ]
    },
    {
      "cell_type": "markdown",
      "source": [
        "Try not to use the following transformations\n",
        "It will cause a huge schuffel of all of the data items with the same key to one of cluster nodes and cause some cluster problems when data is large.\n",
        "\n",
        "groupByKey([numPartitions])"
      ],
      "metadata": {
        "id": "1aqXQBL1ww_p"
      }
    },
    {
      "cell_type": "code",
      "source": [
        "rdd2 = sc.parallelize([(\"the\", 1), ('the', 1), ('the', 2), ('for', 1), ('for', 2),('for', 1)])\n",
        "rdd2.groupByKey().collect()"
      ],
      "metadata": {
        "colab": {
          "base_uri": "https://localhost:8080/"
        },
        "id": "isbggPfiwesg",
        "outputId": "e7612612-7296-4dce-960b-cb297edb06f5"
      },
      "execution_count": 13,
      "outputs": [
        {
          "output_type": "execute_result",
          "data": {
            "text/plain": [
              "[('the', <pyspark.resultiterable.ResultIterable at 0x7f0c98f54610>),\n",
              " ('for', <pyspark.resultiterable.ResultIterable at 0x7f0c98f54050>)]"
            ]
          },
          "metadata": {},
          "execution_count": 13
        }
      ]
    },
    {
      "cell_type": "code",
      "source": [
        "rdd2.groupByKey().map(lambda x: sum(x[1])).collect()"
      ],
      "metadata": {
        "colab": {
          "base_uri": "https://localhost:8080/"
        },
        "id": "Yp6mfYqixBow",
        "outputId": "41ad8990-c710-4f3f-e3a6-2c3f6357c640"
      },
      "execution_count": 14,
      "outputs": [
        {
          "output_type": "execute_result",
          "data": {
            "text/plain": [
              "[4, 4]"
            ]
          },
          "metadata": {},
          "execution_count": 14
        }
      ]
    },
    {
      "cell_type": "code",
      "source": [
        "a = [('What Will It Take for BU Commuters to Leave Their Cars for the MBTA? University\\\n",
        "      boosts T pass subsidies to cover half the cost, raises parking fees, all part of \\\n",
        "      broader strategy to build a greener BU')]\n",
        "rdd = sc.parallelize(a) "
      ],
      "metadata": {
        "id": "CjmjbxlnxNVQ"
      },
      "execution_count": 15,
      "outputs": []
    },
    {
      "cell_type": "code",
      "source": [
        "counts = rdd.flatMap(lambda x: x.split(' ')).map(lambda x: (x, 1))"
      ],
      "metadata": {
        "id": "v71qx9IAyQoV"
      },
      "execution_count": 16,
      "outputs": []
    },
    {
      "cell_type": "code",
      "source": [
        "counts.collect()"
      ],
      "metadata": {
        "colab": {
          "base_uri": "https://localhost:8080/"
        },
        "id": "WYAjWLFJyYYq",
        "outputId": "2d99e504-9c9f-4316-e239-107a769d2343"
      },
      "execution_count": 18,
      "outputs": [
        {
          "output_type": "execute_result",
          "data": {
            "text/plain": [
              "[('What', 1),\n",
              " ('Will', 1),\n",
              " ('It', 1),\n",
              " ('Take', 1),\n",
              " ('for', 1),\n",
              " ('BU', 1),\n",
              " ('Commuters', 1),\n",
              " ('to', 1),\n",
              " ('Leave', 1),\n",
              " ('Their', 1),\n",
              " ('Cars', 1),\n",
              " ('for', 1),\n",
              " ('the', 1),\n",
              " ('MBTA?', 1),\n",
              " ('University', 1),\n",
              " ('', 1),\n",
              " ('', 1),\n",
              " ('', 1),\n",
              " ('', 1),\n",
              " ('', 1),\n",
              " ('boosts', 1),\n",
              " ('T', 1),\n",
              " ('pass', 1),\n",
              " ('subsidies', 1),\n",
              " ('to', 1),\n",
              " ('cover', 1),\n",
              " ('half', 1),\n",
              " ('the', 1),\n",
              " ('cost,', 1),\n",
              " ('raises', 1),\n",
              " ('parking', 1),\n",
              " ('fees,', 1),\n",
              " ('all', 1),\n",
              " ('part', 1),\n",
              " ('of', 1),\n",
              " ('', 1),\n",
              " ('', 1),\n",
              " ('', 1),\n",
              " ('', 1),\n",
              " ('', 1),\n",
              " ('', 1),\n",
              " ('broader', 1),\n",
              " ('strategy', 1),\n",
              " ('to', 1),\n",
              " ('build', 1),\n",
              " ('a', 1),\n",
              " ('greener', 1),\n",
              " ('BU', 1)]"
            ]
          },
          "metadata": {},
          "execution_count": 18
        }
      ]
    }
  ]
}