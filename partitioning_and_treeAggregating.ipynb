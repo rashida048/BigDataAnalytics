{
  "nbformat": 4,
  "nbformat_minor": 0,
  "metadata": {
    "colab": {
      "name": "partitioning_and_treeAggregating.ipynb",
      "provenance": [],
      "authorship_tag": "ABX9TyOq0ekO3xFGImsujKa3FvAh",
      "include_colab_link": true
    },
    "kernelspec": {
      "name": "python3",
      "display_name": "Python 3"
    },
    "language_info": {
      "name": "python"
    }
  },
  "cells": [
    {
      "cell_type": "markdown",
      "metadata": {
        "id": "view-in-github",
        "colab_type": "text"
      },
      "source": [
        "<a href=\"https://colab.research.google.com/github/rashida048/BigDataAnalytics/blob/master/partitioning_and_treeAggregating.ipynb\" target=\"_parent\"><img src=\"https://colab.research.google.com/assets/colab-badge.svg\" alt=\"Open In Colab\"/></a>"
      ]
    },
    {
      "cell_type": "code",
      "metadata": {
        "colab": {
          "base_uri": "https://localhost:8080/"
        },
        "id": "q9-vpSMFfrA3",
        "outputId": "a34a11d3-a209-47c1-f79a-d4180368cbc4"
      },
      "source": [
        "!pip install pyspark"
      ],
      "execution_count": 2,
      "outputs": [
        {
          "output_type": "stream",
          "name": "stdout",
          "text": [
            "Collecting pyspark\n",
            "  Downloading pyspark-3.1.2.tar.gz (212.4 MB)\n",
            "\u001b[K     |████████████████████████████████| 212.4 MB 60 kB/s \n",
            "\u001b[?25hCollecting py4j==0.10.9\n",
            "  Downloading py4j-0.10.9-py2.py3-none-any.whl (198 kB)\n",
            "\u001b[K     |████████████████████████████████| 198 kB 55.0 MB/s \n",
            "\u001b[?25hBuilding wheels for collected packages: pyspark\n",
            "  Building wheel for pyspark (setup.py) ... \u001b[?25l\u001b[?25hdone\n",
            "  Created wheel for pyspark: filename=pyspark-3.1.2-py2.py3-none-any.whl size=212880768 sha256=60aa1db975f953b419d6f1e9f0ac17f3dc764c6b0fcd7cb868298533ece4e826\n",
            "  Stored in directory: /root/.cache/pip/wheels/a5/0a/c1/9561f6fecb759579a7d863dcd846daaa95f598744e71b02c77\n",
            "Successfully built pyspark\n",
            "Installing collected packages: py4j, pyspark\n",
            "Successfully installed py4j-0.10.9 pyspark-3.1.2\n"
          ]
        }
      ]
    },
    {
      "cell_type": "code",
      "metadata": {
        "id": "cnKqD9Hofvn9"
      },
      "source": [
        "from pyspark import SparkContext\n",
        "sc = SparkContext.getOrCreate() "
      ],
      "execution_count": 3,
      "outputs": []
    },
    {
      "cell_type": "code",
      "metadata": {
        "colab": {
          "base_uri": "https://localhost:8080/"
        },
        "id": "m1IgZ3DcfxLn",
        "outputId": "455f572b-4b1a-4da0-f7fb-345deafd08b9"
      },
      "source": [
        "pairs = sc.parallelize([1, 2, 3, 4, 5, 6, 7, 8]).map(lambda x: (x, x))\n",
        "pairs.collect()"
      ],
      "execution_count": 4,
      "outputs": [
        {
          "output_type": "execute_result",
          "data": {
            "text/plain": [
              "[(1, 1), (2, 2), (3, 3), (4, 4), (5, 5), (6, 6), (7, 7), (8, 8)]"
            ]
          },
          "metadata": {},
          "execution_count": 4
        }
      ]
    },
    {
      "cell_type": "code",
      "metadata": {
        "colab": {
          "base_uri": "https://localhost:8080/"
        },
        "id": "a1yNBMojgEFP",
        "outputId": "f5f762c3-1e07-444f-8314-21edba13adc9"
      },
      "source": [
        "pairs.partitionBy(4).glom().collect()"
      ],
      "execution_count": 5,
      "outputs": [
        {
          "output_type": "execute_result",
          "data": {
            "text/plain": [
              "[[(4, 4), (8, 8)], [(1, 1), (5, 5)], [(2, 2), (6, 6)], [(3, 3), (7, 7)]]"
            ]
          },
          "metadata": {},
          "execution_count": 5
        }
      ]
    },
    {
      "cell_type": "code",
      "metadata": {
        "colab": {
          "base_uri": "https://localhost:8080/"
        },
        "id": "lRWMVl_0gK6N",
        "outputId": "ff751d7e-5825-4e7b-ff70-4f66c259fb40"
      },
      "source": [
        "counts = pairs.count()\n",
        "counts"
      ],
      "execution_count": 6,
      "outputs": [
        {
          "output_type": "execute_result",
          "data": {
            "text/plain": [
              "8"
            ]
          },
          "metadata": {},
          "execution_count": 6
        }
      ]
    },
    {
      "cell_type": "code",
      "metadata": {
        "colab": {
          "base_uri": "https://localhost:8080/"
        },
        "id": "tUqmTNTAgR7c",
        "outputId": "4f8ccac2-8da6-46eb-ccca-460e4612f502"
      },
      "source": [
        "numberOfBatches = 4\n",
        "partitionedRDD = pairs.partitionBy(int(counts/numberOfBatches)).glom()\n",
        "\n",
        "partitionedRDD.cache()\n",
        "\n",
        "for i in range(4):\n",
        "  sets = partitionedRDD.map(lambda x: x[i]).collect()\n",
        "  print(\"Batch number \", i, sets)"
      ],
      "execution_count": 7,
      "outputs": [
        {
          "output_type": "stream",
          "name": "stdout",
          "text": [
            "Batch number  0 [(2, 2), (1, 1)]\n",
            "Batch number  1 [(4, 4), (3, 3)]\n",
            "Batch number  2 [(6, 6), (5, 5)]\n",
            "Batch number  3 [(8, 8), (7, 7)]\n"
          ]
        }
      ]
    },
    {
      "cell_type": "code",
      "metadata": {
        "colab": {
          "base_uri": "https://localhost:8080/"
        },
        "id": "LoeSxIEog3K_",
        "outputId": "ea1a3eb7-7667-436b-9d29-db296778803a"
      },
      "source": [
        "partitionedRDD.take(2)"
      ],
      "execution_count": 8,
      "outputs": [
        {
          "output_type": "execute_result",
          "data": {
            "text/plain": [
              "[[(2, 2), (4, 4), (6, 6), (8, 8)], [(1, 1), (3, 3), (5, 5), (7, 7)]]"
            ]
          },
          "metadata": {},
          "execution_count": 8
        }
      ]
    },
    {
      "cell_type": "code",
      "metadata": {
        "colab": {
          "base_uri": "https://localhost:8080/"
        },
        "id": "vzY-q_9MhT5q",
        "outputId": "070d5c1e-dee6-4096-caac-1402175a631c"
      },
      "source": [
        "pairs.partitionBy(2).glom().collect()"
      ],
      "execution_count": 9,
      "outputs": [
        {
          "output_type": "execute_result",
          "data": {
            "text/plain": [
              "[[(2, 2), (4, 4), (6, 6), (8, 8)], [(1, 1), (3, 3), (5, 5), (7, 7)]]"
            ]
          },
          "metadata": {},
          "execution_count": 9
        }
      ]
    },
    {
      "cell_type": "code",
      "metadata": {
        "colab": {
          "base_uri": "https://localhost:8080/"
        },
        "id": "SN4hJXdEhnHV",
        "outputId": "42ae9a1b-a9dd-4d9a-8766-ac313274fcc9"
      },
      "source": [
        "pairs.getNumPartitions()"
      ],
      "execution_count": 10,
      "outputs": [
        {
          "output_type": "execute_result",
          "data": {
            "text/plain": [
              "2"
            ]
          },
          "metadata": {},
          "execution_count": 10
        }
      ]
    },
    {
      "cell_type": "code",
      "metadata": {
        "id": "Bg5h7mKujRVK"
      },
      "source": [
        "import numpy as np\n",
        "rddNP = sc.parallelize(np.array([1, 2, 3, 4, 5, 6, 7, 8]), 4)"
      ],
      "execution_count": 11,
      "outputs": []
    },
    {
      "cell_type": "code",
      "metadata": {
        "colab": {
          "base_uri": "https://localhost:8080/"
        },
        "id": "XL9WqM_xjkQs",
        "outputId": "2bfab15d-462a-4a9a-f910-aa5254203d6e"
      },
      "source": [
        "def f(iterator): yield sum(iterator)\n",
        "print(rddNP.mapPartitions(f).collect())"
      ],
      "execution_count": 12,
      "outputs": [
        {
          "output_type": "stream",
          "name": "stdout",
          "text": [
            "[3, 7, 11, 15]\n"
          ]
        }
      ]
    },
    {
      "cell_type": "code",
      "metadata": {
        "colab": {
          "base_uri": "https://localhost:8080/"
        },
        "id": "GpfSGPRTjvz-",
        "outputId": "0527c06b-b6cc-4aa0-ad16-9e8bd785a44d"
      },
      "source": [
        "pairs = sc.parallelize([1, 1, 1, 1, 1, 1, 1, 1])\n",
        "pairs.collect()"
      ],
      "execution_count": 13,
      "outputs": [
        {
          "output_type": "execute_result",
          "data": {
            "text/plain": [
              "[1, 1, 1, 1, 1, 1, 1, 1]"
            ]
          },
          "metadata": {},
          "execution_count": 13
        }
      ]
    },
    {
      "cell_type": "code",
      "metadata": {
        "colab": {
          "base_uri": "https://localhost:8080/"
        },
        "id": "3Fzo69q8koc5",
        "outputId": "b381ecb3-b594-48a4-d1c1-8aafa4bfd1aa"
      },
      "source": [
        "pairs=pairs.repartition(8)\n",
        "pairs.collect()"
      ],
      "execution_count": 14,
      "outputs": [
        {
          "output_type": "execute_result",
          "data": {
            "text/plain": [
              "[1, 1, 1, 1, 1, 1, 1, 1]"
            ]
          },
          "metadata": {},
          "execution_count": 14
        }
      ]
    },
    {
      "cell_type": "code",
      "metadata": {
        "colab": {
          "base_uri": "https://localhost:8080/"
        },
        "id": "MEr5TOx2k0SX",
        "outputId": "95a5c63c-3b45-4580-c9b8-740e9445d0da"
      },
      "source": [
        "pairs.getNumPartitions()"
      ],
      "execution_count": 15,
      "outputs": [
        {
          "output_type": "execute_result",
          "data": {
            "text/plain": [
              "8"
            ]
          },
          "metadata": {},
          "execution_count": 15
        }
      ]
    },
    {
      "cell_type": "code",
      "metadata": {
        "colab": {
          "base_uri": "https://localhost:8080/"
        },
        "id": "i0A5UONQoZ7u",
        "outputId": "e7f6ce98-d91d-4869-b92a-9beb6cf87e6f"
      },
      "source": [
        "a = pairs.repartition(1).treeAggregate((1, 1), lambda x, y: (x[0]+y, x[1]+y), lambda x, y: (x[0]+y[0], x[1]+y[1]))\n",
        "print(a)"
      ],
      "execution_count": 16,
      "outputs": [
        {
          "output_type": "stream",
          "name": "stdout",
          "text": [
            "(9, 9)\n"
          ]
        }
      ]
    },
    {
      "cell_type": "code",
      "metadata": {
        "id": "3Y_uDaJvo176",
        "colab": {
          "base_uri": "https://localhost:8080/"
        },
        "outputId": "ebb130d6-c1ae-4aee-eb50-049d64943ceb"
      },
      "source": [
        "a =  pairs.repartition(4)\\\n",
        ".treeAggregate((1, 1), lambda x, y: (x[0]+y, x[1]+y) , lambda x, y: (x[0]+y[0],x[1]+y[1]))\n",
        "\n",
        "print(a)"
      ],
      "execution_count": 17,
      "outputs": [
        {
          "output_type": "stream",
          "name": "stdout",
          "text": [
            "(12, 12)\n"
          ]
        }
      ]
    },
    {
      "cell_type": "code",
      "metadata": {
        "colab": {
          "base_uri": "https://localhost:8080/"
        },
        "id": "DBE0N_hiqmxV",
        "outputId": "73e64f2f-3702-4188-c4c7-40676676b15e"
      },
      "source": [
        "a =  pairs.repartition(8)\\\n",
        ".treeAggregate((1, 1), lambda x, y: (x[0]+y, x[1]+y) , lambda x, y: (x[0]+y[0],x[1]+y[1]))\n",
        "\n",
        "print(a)"
      ],
      "execution_count": 18,
      "outputs": [
        {
          "output_type": "stream",
          "name": "stdout",
          "text": [
            "(16, 16)\n"
          ]
        }
      ]
    },
    {
      "cell_type": "code",
      "metadata": {
        "id": "DN8kxaUfrH82"
      },
      "source": [
        "rddChars = sc.parallelize(['a', 'b', 'c', 'd', 'e', 'f', 'c', 'd'])\n",
        "rddChars = rddChars.coalesce(4)"
      ],
      "execution_count": 19,
      "outputs": []
    },
    {
      "cell_type": "code",
      "metadata": {
        "colab": {
          "base_uri": "https://localhost:8080/"
        },
        "id": "oeBm3CzdrGIU",
        "outputId": "e75ad070-6a1c-49a5-9afe-200dbe9c4b3d"
      },
      "source": [
        "rddChars.glom().collect()"
      ],
      "execution_count": 20,
      "outputs": [
        {
          "output_type": "execute_result",
          "data": {
            "text/plain": [
              "[['a', 'b', 'c', 'd'], ['e', 'f', 'c', 'd']]"
            ]
          },
          "metadata": {},
          "execution_count": 20
        }
      ]
    },
    {
      "cell_type": "code",
      "metadata": {
        "id": "9z-zMujAre3f"
      },
      "source": [
        ""
      ],
      "execution_count": null,
      "outputs": []
    }
  ]
}