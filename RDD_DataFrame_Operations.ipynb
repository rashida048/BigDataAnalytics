{
  "nbformat": 4,
  "nbformat_minor": 0,
  "metadata": {
    "colab": {
      "name": "RDD-DataFrame-Operations.ipynb",
      "provenance": [],
      "authorship_tag": "ABX9TyPBeVc4gd0sHMrInskCv6fk",
      "include_colab_link": true
    },
    "kernelspec": {
      "name": "python3",
      "display_name": "Python 3"
    },
    "language_info": {
      "name": "python"
    }
  },
  "cells": [
    {
      "cell_type": "markdown",
      "metadata": {
        "id": "view-in-github",
        "colab_type": "text"
      },
      "source": [
        "<a href=\"https://colab.research.google.com/github/rashida048/BigDataAnalytics/blob/master/RDD_DataFrame_Operations.ipynb\" target=\"_parent\"><img src=\"https://colab.research.google.com/assets/colab-badge.svg\" alt=\"Open In Colab\"/></a>"
      ]
    },
    {
      "cell_type": "code",
      "metadata": {
        "colab": {
          "base_uri": "https://localhost:8080/"
        },
        "id": "mGHY6Lur48DI",
        "outputId": "ddb583c9-69eb-4f9a-d61e-f49cd02f58df"
      },
      "source": [
        "!pip install pyspark"
      ],
      "execution_count": 3,
      "outputs": [
        {
          "output_type": "stream",
          "name": "stdout",
          "text": [
            "Collecting pyspark\n",
            "  Downloading pyspark-3.1.2.tar.gz (212.4 MB)\n",
            "\u001b[K     |████████████████████████████████| 212.4 MB 58 kB/s \n",
            "\u001b[?25hCollecting py4j==0.10.9\n",
            "  Downloading py4j-0.10.9-py2.py3-none-any.whl (198 kB)\n",
            "\u001b[K     |████████████████████████████████| 198 kB 48.7 MB/s \n",
            "\u001b[?25hBuilding wheels for collected packages: pyspark\n",
            "  Building wheel for pyspark (setup.py) ... \u001b[?25l\u001b[?25hdone\n",
            "  Created wheel for pyspark: filename=pyspark-3.1.2-py2.py3-none-any.whl size=212880768 sha256=92e525ee78fa886093558d06f015702d7e0ff3b9dbd70e1740eaabc8aa8aa1df\n",
            "  Stored in directory: /root/.cache/pip/wheels/a5/0a/c1/9561f6fecb759579a7d863dcd846daaa95f598744e71b02c77\n",
            "Successfully built pyspark\n",
            "Installing collected packages: py4j, pyspark\n",
            "Successfully installed py4j-0.10.9 pyspark-3.1.2\n"
          ]
        }
      ]
    },
    {
      "cell_type": "code",
      "metadata": {
        "id": "IBIwLg0A4_mw"
      },
      "source": [
        "from pyspark import SparkContext\n",
        "sc = SparkContext.getOrCreate() "
      ],
      "execution_count": 4,
      "outputs": []
    },
    {
      "cell_type": "code",
      "metadata": {
        "colab": {
          "base_uri": "https://localhost:8080/"
        },
        "id": "8anlNh515_n9",
        "outputId": "0f85d1b7-ba6a-446b-8d95-adc297f89dba"
      },
      "source": [
        "rdd = sc.parallelize([(\"to\", 1), (\"be\", 1), (\"or\", 1) , (\"not\", 1),  (\"to\", 1),  (\"be\", 1)])\n",
        "\n",
        "rdd.take(1)"
      ],
      "execution_count": 5,
      "outputs": [
        {
          "output_type": "execute_result",
          "data": {
            "text/plain": [
              "[('to', 1)]"
            ]
          },
          "metadata": {},
          "execution_count": 5
        }
      ]
    },
    {
      "cell_type": "code",
      "metadata": {
        "colab": {
          "base_uri": "https://localhost:8080/"
        },
        "id": "MSieWvYy718_",
        "outputId": "fb682a12-bc59-46bc-d655-b12c9c02fca1"
      },
      "source": [
        "rdd3 = rdd.reduceByKey(lambda x, y: x+y)\n",
        "\n",
        "rdd3.collect()"
      ],
      "execution_count": 6,
      "outputs": [
        {
          "output_type": "execute_result",
          "data": {
            "text/plain": [
              "[('to', 2), ('be', 2), ('or', 1), ('not', 1)]"
            ]
          },
          "metadata": {},
          "execution_count": 6
        }
      ]
    },
    {
      "cell_type": "code",
      "metadata": {
        "colab": {
          "base_uri": "https://localhost:8080/"
        },
        "id": "zzcnb5RJ8D_X",
        "outputId": "e25ef2b7-6ebb-4267-9e29-bfb5201c07d2"
      },
      "source": [
        "sc.parallelize([1, 1, 2, 3]).distinct().collect()"
      ],
      "execution_count": 7,
      "outputs": [
        {
          "output_type": "execute_result",
          "data": {
            "text/plain": [
              "[2, 1, 3]"
            ]
          },
          "metadata": {},
          "execution_count": 7
        }
      ]
    },
    {
      "cell_type": "code",
      "metadata": {
        "id": "BLGRDdAm8LtH"
      },
      "source": [
        "rdd1 = sc.parallelize( [(1, 'a'), (1, 'b'), (5, 'c'), (2, 'd'), (3, 'e')])\n",
        "rdd2 = sc.parallelize([(1, 'AA'), (5, 'BB'), (5, 'CC'), (6, 'DD')])"
      ],
      "execution_count": 8,
      "outputs": []
    },
    {
      "cell_type": "code",
      "metadata": {
        "colab": {
          "base_uri": "https://localhost:8080/"
        },
        "id": "iHFSSOq78Ycd",
        "outputId": "10f66671-4d10-41fc-e85a-f4652fef0f45"
      },
      "source": [
        "rdd1.join(rdd2).collect()"
      ],
      "execution_count": 9,
      "outputs": [
        {
          "output_type": "execute_result",
          "data": {
            "text/plain": [
              "[(1, ('a', 'AA')), (1, ('b', 'AA')), (5, ('c', 'BB')), (5, ('c', 'CC'))]"
            ]
          },
          "metadata": {},
          "execution_count": 9
        }
      ]
    },
    {
      "cell_type": "code",
      "metadata": {
        "colab": {
          "base_uri": "https://localhost:8080/"
        },
        "id": "R6drx6gZ8dq1",
        "outputId": "915162dc-5120-418b-fa36-ff3e340e324b"
      },
      "source": [
        "rdd1.leftOuterJoin(rdd2).collect()"
      ],
      "execution_count": 10,
      "outputs": [
        {
          "output_type": "execute_result",
          "data": {
            "text/plain": [
              "[(1, ('a', 'AA')),\n",
              " (1, ('b', 'AA')),\n",
              " (5, ('c', 'BB')),\n",
              " (5, ('c', 'CC')),\n",
              " (2, ('d', None)),\n",
              " (3, ('e', None))]"
            ]
          },
          "metadata": {},
          "execution_count": 10
        }
      ]
    },
    {
      "cell_type": "code",
      "metadata": {
        "colab": {
          "base_uri": "https://localhost:8080/"
        },
        "id": "ZO6gOAH989zj",
        "outputId": "444c51f9-6970-4510-cbcc-edaa9589959b"
      },
      "source": [
        "rdd1.rightOuterJoin(rdd2).collect()"
      ],
      "execution_count": 11,
      "outputs": [
        {
          "output_type": "execute_result",
          "data": {
            "text/plain": [
              "[(1, ('a', 'AA')),\n",
              " (1, ('b', 'AA')),\n",
              " (5, ('c', 'BB')),\n",
              " (5, ('c', 'CC')),\n",
              " (6, (None, 'DD'))]"
            ]
          },
          "metadata": {},
          "execution_count": 11
        }
      ]
    },
    {
      "cell_type": "code",
      "metadata": {
        "colab": {
          "base_uri": "https://localhost:8080/"
        },
        "id": "ChAsC-oU9CCY",
        "outputId": "4a7bc0b8-26af-40b8-8bd7-d6171f4b84ea"
      },
      "source": [
        "rdd1.fullOuterJoin(rdd2).collect()"
      ],
      "execution_count": 12,
      "outputs": [
        {
          "output_type": "execute_result",
          "data": {
            "text/plain": [
              "[(1, ('a', 'AA')),\n",
              " (1, ('b', 'AA')),\n",
              " (5, ('c', 'BB')),\n",
              " (5, ('c', 'CC')),\n",
              " (2, ('d', None)),\n",
              " (6, (None, 'DD')),\n",
              " (3, ('e', None))]"
            ]
          },
          "metadata": {},
          "execution_count": 12
        }
      ]
    },
    {
      "cell_type": "code",
      "metadata": {
        "colab": {
          "base_uri": "https://localhost:8080/"
        },
        "id": "HuPrTA1X9ThH",
        "outputId": "2c0c253c-6636-4f7a-cdb7-edb859757f4b"
      },
      "source": [
        "sc.parallelize([1, 2, 3, 4, 5]).reduce(lambda x, y: x+y)"
      ],
      "execution_count": 13,
      "outputs": [
        {
          "output_type": "execute_result",
          "data": {
            "text/plain": [
              "15"
            ]
          },
          "metadata": {},
          "execution_count": 13
        }
      ]
    },
    {
      "cell_type": "code",
      "metadata": {
        "colab": {
          "base_uri": "https://localhost:8080/"
        },
        "id": "SoBTjVSd9Zwf",
        "outputId": "2b57d61e-f0c3-4171-c730-bb90359b4429"
      },
      "source": [
        "rdd = sc.parallelize([(\"a\", [\"apple\", 'banana', \"lemon\"]), (\"b\", [\"grapes\"])])\n",
        "rdd.take(1)"
      ],
      "execution_count": 15,
      "outputs": [
        {
          "output_type": "execute_result",
          "data": {
            "text/plain": [
              "[('a', ['apple', 'banana', 'lemon'])]"
            ]
          },
          "metadata": {},
          "execution_count": 15
        }
      ]
    },
    {
      "cell_type": "code",
      "metadata": {
        "colab": {
          "base_uri": "https://localhost:8080/"
        },
        "id": "DWBAn_9_9wwD",
        "outputId": "b551d39d-e14f-482d-8d8b-2fbced0b03bd"
      },
      "source": [
        "rdd.mapValues(lambda x: len(x)).collect()"
      ],
      "execution_count": 16,
      "outputs": [
        {
          "output_type": "execute_result",
          "data": {
            "text/plain": [
              "[('a', 3), ('b', 1)]"
            ]
          },
          "metadata": {},
          "execution_count": 16
        }
      ]
    },
    {
      "cell_type": "code",
      "metadata": {
        "colab": {
          "base_uri": "https://localhost:8080/"
        },
        "id": "2TRIzTgZ954f",
        "outputId": "0df2ccf5-118a-4094-e688-95fab8c3d16a"
      },
      "source": [
        "sc.parallelize([4, 2, 3]).first()"
      ],
      "execution_count": 17,
      "outputs": [
        {
          "output_type": "execute_result",
          "data": {
            "text/plain": [
              "4"
            ]
          },
          "metadata": {},
          "execution_count": 17
        }
      ]
    },
    {
      "cell_type": "code",
      "metadata": {
        "colab": {
          "base_uri": "https://localhost:8080/"
        },
        "id": "YmZvkLOJ-AHk",
        "outputId": "76e5be0c-b4e4-4864-a947-367f4fa26f6e"
      },
      "source": [
        "sc.parallelize([(4, 2), (1, 2), (3, 2)]).first()"
      ],
      "execution_count": 18,
      "outputs": [
        {
          "output_type": "execute_result",
          "data": {
            "text/plain": [
              "(4, 2)"
            ]
          },
          "metadata": {},
          "execution_count": 18
        }
      ]
    },
    {
      "cell_type": "code",
      "metadata": {
        "colab": {
          "base_uri": "https://localhost:8080/"
        },
        "id": "6XtqV7f_-QE3",
        "outputId": "16fa0efb-5a44-4af8-8d2c-29d641c177d3"
      },
      "source": [
        "sc.parallelize([1, 2, 1, 2, 2], 3).countByValue()"
      ],
      "execution_count": 21,
      "outputs": [
        {
          "output_type": "execute_result",
          "data": {
            "text/plain": [
              "defaultdict(int, {1: 2, 2: 3})"
            ]
          },
          "metadata": {},
          "execution_count": 21
        }
      ]
    },
    {
      "cell_type": "code",
      "metadata": {
        "colab": {
          "base_uri": "https://localhost:8080/"
        },
        "id": "hBmAsuSw-Du2",
        "outputId": "cc47589d-2129-425a-a019-6aef0b5467a4"
      },
      "source": [
        "sc.parallelize([1, 2, 1, 2, 2]).countByValue()"
      ],
      "execution_count": 22,
      "outputs": [
        {
          "output_type": "execute_result",
          "data": {
            "text/plain": [
              "defaultdict(int, {1: 2, 2: 3})"
            ]
          },
          "metadata": {},
          "execution_count": 22
        }
      ]
    },
    {
      "cell_type": "code",
      "metadata": {
        "colab": {
          "base_uri": "https://localhost:8080/"
        },
        "id": "M81ilQcP-dFY",
        "outputId": "e08eb51e-1d2d-42eb-e19d-537558d40482"
      },
      "source": [
        "sc.parallelize([1, 2, 3, 4, 5], 3).coalesce(1).collect()"
      ],
      "execution_count": 23,
      "outputs": [
        {
          "output_type": "execute_result",
          "data": {
            "text/plain": [
              "[1, 2, 3, 4, 5]"
            ]
          },
          "metadata": {},
          "execution_count": 23
        }
      ]
    },
    {
      "cell_type": "code",
      "metadata": {
        "colab": {
          "base_uri": "https://localhost:8080/"
        },
        "id": "hg6pHvIW-mmu",
        "outputId": "d9a55535-f2ac-479f-84fd-14b3806b958d"
      },
      "source": [
        "sc.parallelize([1, 2, 3, 4, 5], 3).coalesce(1).glom().collect()"
      ],
      "execution_count": 25,
      "outputs": [
        {
          "output_type": "execute_result",
          "data": {
            "text/plain": [
              "[[1, 2, 3, 4, 5]]"
            ]
          },
          "metadata": {},
          "execution_count": 25
        }
      ]
    },
    {
      "cell_type": "code",
      "metadata": {
        "colab": {
          "base_uri": "https://localhost:8080/"
        },
        "id": "vlcx4Ing-8O1",
        "outputId": "d3700300-84e6-40a7-c5d8-367fc93766d4"
      },
      "source": [
        "sc.parallelize([1, 2, 3, 4, 5], 3).coalesce(3).glom().collect()"
      ],
      "execution_count": 26,
      "outputs": [
        {
          "output_type": "execute_result",
          "data": {
            "text/plain": [
              "[[1], [2, 3], [4, 5]]"
            ]
          },
          "metadata": {},
          "execution_count": 26
        }
      ]
    },
    {
      "cell_type": "code",
      "metadata": {
        "colab": {
          "base_uri": "https://localhost:8080/"
        },
        "id": "nesAYOJy_DRA",
        "outputId": "0cd42507-9943-45bf-eb06-0b4473b47b8e"
      },
      "source": [
        "sc.parallelize([1, 2, 3, 4, 5], 3).coalesce(2).glom().collect()"
      ],
      "execution_count": 29,
      "outputs": [
        {
          "output_type": "execute_result",
          "data": {
            "text/plain": [
              "[[1], [2, 3, 4, 5]]"
            ]
          },
          "metadata": {},
          "execution_count": 29
        }
      ]
    },
    {
      "cell_type": "code",
      "metadata": {
        "colab": {
          "base_uri": "https://localhost:8080/"
        },
        "id": "0jVusd55_FDg",
        "outputId": "0773df82-a0cf-447f-cdb1-6ae656f3e2fc"
      },
      "source": [
        "sc.parallelize([1, 2, 3, 4, 5], 4).coalesce(5).glom().collect()"
      ],
      "execution_count": 31,
      "outputs": [
        {
          "output_type": "execute_result",
          "data": {
            "text/plain": [
              "[[1], [2], [3], [4, 5]]"
            ]
          },
          "metadata": {},
          "execution_count": 31
        }
      ]
    },
    {
      "cell_type": "code",
      "metadata": {
        "colab": {
          "base_uri": "https://localhost:8080/"
        },
        "id": "aunuy04R_Nt1",
        "outputId": "fea2164a-f990-4a9d-f14e-861a30b93f61"
      },
      "source": [
        "sc.parallelize([1, 2, 3, 4, 5], 5).coalesce(5).glom().collect()"
      ],
      "execution_count": 32,
      "outputs": [
        {
          "output_type": "execute_result",
          "data": {
            "text/plain": [
              "[[1], [2], [3], [4], [5]]"
            ]
          },
          "metadata": {},
          "execution_count": 32
        }
      ]
    },
    {
      "cell_type": "code",
      "metadata": {
        "colab": {
          "base_uri": "https://localhost:8080/"
        },
        "id": "5KXMpSxU_bOP",
        "outputId": "beb2199f-3113-4474-eb56-e1c32f54e976"
      },
      "source": [
        "sc.parallelize([1, 2, 3, 4, 5], 6).coalesce(6).glom().collect()"
      ],
      "execution_count": 34,
      "outputs": [
        {
          "output_type": "execute_result",
          "data": {
            "text/plain": [
              "[[], [1], [2], [3], [4], [5]]"
            ]
          },
          "metadata": {},
          "execution_count": 34
        }
      ]
    },
    {
      "cell_type": "code",
      "metadata": {
        "colab": {
          "base_uri": "https://localhost:8080/"
        },
        "id": "l9LflR1I_dpb",
        "outputId": "3420b3b9-9250-455b-b207-c511f96737a3"
      },
      "source": [
        "rdd = sc.parallelize([1,2,3,4,5,6,7,8], 7)\n",
        "rdd.glom().collect()"
      ],
      "execution_count": 36,
      "outputs": [
        {
          "output_type": "execute_result",
          "data": {
            "text/plain": [
              "[[1], [2], [3], [4], [5], [6], [7, 8]]"
            ]
          },
          "metadata": {},
          "execution_count": 36
        }
      ]
    },
    {
      "cell_type": "code",
      "metadata": {
        "colab": {
          "base_uri": "https://localhost:8080/"
        },
        "id": "bf5odjEv_niZ",
        "outputId": "85be81e7-735f-49cf-8c90-895611cb5922"
      },
      "source": [
        "rdd = sc.parallelize([(\"a\", 1), (\"b\", 1), (\"a\", 1)])\n",
        "rdd.groupByKey().collect()"
      ],
      "execution_count": 37,
      "outputs": [
        {
          "output_type": "execute_result",
          "data": {
            "text/plain": [
              "[('b', <pyspark.resultiterable.ResultIterable at 0x7fdfc8425350>),\n",
              " ('a', <pyspark.resultiterable.ResultIterable at 0x7fdfc8425290>)]"
            ]
          },
          "metadata": {},
          "execution_count": 37
        }
      ]
    },
    {
      "cell_type": "code",
      "metadata": {
        "colab": {
          "base_uri": "https://localhost:8080/"
        },
        "id": "ptFvqi6x_vqL",
        "outputId": "a1d35e3b-1bf1-4cb5-d323-b360b09dca86"
      },
      "source": [
        "rdd = sc.parallelize([(\"c\", 1), (\"a\", 1), (\"b\", 1)])\n",
        "rdd.collect()"
      ],
      "execution_count": 38,
      "outputs": [
        {
          "output_type": "execute_result",
          "data": {
            "text/plain": [
              "[('c', 1), ('a', 1), ('b', 1)]"
            ]
          },
          "metadata": {},
          "execution_count": 38
        }
      ]
    },
    {
      "cell_type": "code",
      "metadata": {
        "colab": {
          "base_uri": "https://localhost:8080/"
        },
        "id": "rgUOxpEmCMd2",
        "outputId": "9a7fb1ef-c709-43fe-b853-10aab4359a0c"
      },
      "source": [
        "rdd.sortByKey().collect()"
      ],
      "execution_count": 39,
      "outputs": [
        {
          "output_type": "execute_result",
          "data": {
            "text/plain": [
              "[('a', 1), ('b', 1), ('c', 1)]"
            ]
          },
          "metadata": {},
          "execution_count": 39
        }
      ]
    },
    {
      "cell_type": "code",
      "metadata": {
        "colab": {
          "base_uri": "https://localhost:8080/"
        },
        "id": "CyUDuowjCRM8",
        "outputId": "b7a4e3cc-168f-4b0e-e9e9-4df830904e42"
      },
      "source": [
        "rdd = sc.parallelize([(\"c1\", \"p1\"), (\"c2\", \"p1\"), (\"c1\", \"p1\") , (\"c2\", \"p2\") , (\"c2\", \"p3\")])\n",
        "rdd.collect()"
      ],
      "execution_count": 40,
      "outputs": [
        {
          "output_type": "execute_result",
          "data": {
            "text/plain": [
              "[('c1', 'p1'), ('c2', 'p1'), ('c1', 'p1'), ('c2', 'p2'), ('c2', 'p3')]"
            ]
          },
          "metadata": {},
          "execution_count": 40
        }
      ]
    },
    {
      "cell_type": "code",
      "metadata": {
        "id": "TIQzSEnECZVP"
      },
      "source": [
        "def mySequenceFunction(x, y):\n",
        "  x.add(y)\n",
        "  return x"
      ],
      "execution_count": 43,
      "outputs": []
    },
    {
      "cell_type": "code",
      "metadata": {
        "id": "nMBak-8rChk4"
      },
      "source": [
        "def myCombinerFunction(x, y):\n",
        "  x.update(y)\n",
        "  return x"
      ],
      "execution_count": 42,
      "outputs": []
    },
    {
      "cell_type": "code",
      "metadata": {
        "colab": {
          "base_uri": "https://localhost:8080/"
        },
        "id": "WFDvUIy9C58f",
        "outputId": "ebdd4a7c-8039-453b-acce-860a82e80f8b"
      },
      "source": [
        "rdd.aggregateByKey(set([]), mySequenceFunction, myCombinerFunction).collect()"
      ],
      "execution_count": 45,
      "outputs": [
        {
          "output_type": "execute_result",
          "data": {
            "text/plain": [
              "[('c1', {'p1'}), ('c2', {'p1', 'p2', 'p3'})]"
            ]
          },
          "metadata": {},
          "execution_count": 45
        }
      ]
    },
    {
      "cell_type": "code",
      "metadata": {
        "id": "6A2mFfKYDquo"
      },
      "source": [
        "from pyspark.sql import SQLContext\n",
        "sqlContext = SQLContext(sc)"
      ],
      "execution_count": 13,
      "outputs": []
    },
    {
      "cell_type": "code",
      "metadata": {
        "colab": {
          "base_uri": "https://localhost:8080/"
        },
        "id": "S8nVXYJsCncS",
        "outputId": "204f7f73-1544-45fb-b207-18f136700e4c"
      },
      "source": [
        "a = [(\"Chris\", \"Berliner\", 5)]\n",
        "sqlContext.createDataFrame(a, [\"drinker\", \"beer\", \"Score\"]).collect()"
      ],
      "execution_count": 14,
      "outputs": [
        {
          "output_type": "execute_result",
          "data": {
            "text/plain": [
              "[Row(drinker='Chris', beer='Berliner', Score=5)]"
            ]
          },
          "metadata": {},
          "execution_count": 14
        }
      ]
    },
    {
      "cell_type": "code",
      "metadata": {
        "id": "OX4nRsBTC08-"
      },
      "source": [
        "likes = [('Chris', 'Bud'), ('Kia', 'Berliner'), ('Matt', 'ARJK')]\n",
        "frequencies = [('Chris', 'Bohene'), ('Kia', 'Little'), ('Oscar', 'Griff')]\n",
        "\n",
        "likesName=['Drinker', 'Beer']\n",
        "frequentsName=['Drinker', 'Bar']"
      ],
      "execution_count": 15,
      "outputs": []
    },
    {
      "cell_type": "code",
      "metadata": {
        "colab": {
          "base_uri": "https://localhost:8080/"
        },
        "id": "2frFfqpAEjgB",
        "outputId": "a4848ea4-fcf1-462d-9c5c-dd8362a952bb"
      },
      "source": [
        "likesDF = sqlContext.createDataFrame(likes, likesName)\n",
        "frequentsDF = sqlContext.createDataFrame(frequencies, frequentsName)\n",
        "\n",
        "likesDF.show()"
      ],
      "execution_count": 16,
      "outputs": [
        {
          "output_type": "stream",
          "name": "stdout",
          "text": [
            "+-------+--------+\n",
            "|Drinker|    Beer|\n",
            "+-------+--------+\n",
            "|  Chris|     Bud|\n",
            "|    Kia|Berliner|\n",
            "|   Matt|    ARJK|\n",
            "+-------+--------+\n",
            "\n"
          ]
        }
      ]
    },
    {
      "cell_type": "code",
      "metadata": {
        "colab": {
          "base_uri": "https://localhost:8080/"
        },
        "id": "HqGVXdsvE2Zs",
        "outputId": "a732f7b5-7ca6-412d-fc0a-bfd74918b408"
      },
      "source": [
        "frequentsDF.show()"
      ],
      "execution_count": 17,
      "outputs": [
        {
          "output_type": "stream",
          "name": "stdout",
          "text": [
            "+-------+------+\n",
            "|Drinker|   Bar|\n",
            "+-------+------+\n",
            "|  Chris|Bohene|\n",
            "|    Kia|Little|\n",
            "|  Oscar| Griff|\n",
            "+-------+------+\n",
            "\n"
          ]
        }
      ]
    },
    {
      "cell_type": "code",
      "metadata": {
        "colab": {
          "base_uri": "https://localhost:8080/"
        },
        "id": "imCw91m8FLoQ",
        "outputId": "86594515-3e44-4f1c-86b5-93c8d4eefedf"
      },
      "source": [
        "likesDF.join(frequentsDF, likesDF.Drinker == frequentsDF.Drinker, 'right').show()"
      ],
      "execution_count": 18,
      "outputs": [
        {
          "output_type": "stream",
          "name": "stdout",
          "text": [
            "+-------+--------+-------+------+\n",
            "|Drinker|    Beer|Drinker|   Bar|\n",
            "+-------+--------+-------+------+\n",
            "|  Chris|     Bud|  Chris|Bohene|\n",
            "|    Kia|Berliner|    Kia|Little|\n",
            "|   null|    null|  Oscar| Griff|\n",
            "+-------+--------+-------+------+\n",
            "\n"
          ]
        }
      ]
    },
    {
      "cell_type": "code",
      "metadata": {
        "colab": {
          "base_uri": "https://localhost:8080/"
        },
        "id": "fUkDioopHchD",
        "outputId": "d1a74ac5-c115-4429-88ad-f85d4e1c1e02"
      },
      "source": [
        "likesDF.join(frequentsDF, likesDF.Drinker == frequentsDF.Drinker, 'full').show()"
      ],
      "execution_count": 19,
      "outputs": [
        {
          "output_type": "stream",
          "name": "stdout",
          "text": [
            "+-------+--------+-------+------+\n",
            "|Drinker|    Beer|Drinker|   Bar|\n",
            "+-------+--------+-------+------+\n",
            "|  Chris|     Bud|  Chris|Bohene|\n",
            "|    Kia|Berliner|    Kia|Little|\n",
            "|   null|    null|  Oscar| Griff|\n",
            "|   Matt|    ARJK|   null|  null|\n",
            "+-------+--------+-------+------+\n",
            "\n"
          ]
        }
      ]
    },
    {
      "cell_type": "code",
      "metadata": {
        "colab": {
          "base_uri": "https://localhost:8080/"
        },
        "id": "qDZFZyAoHncb",
        "outputId": "c87793be-6e78-4565-ed1b-6b9283d7ac4b"
      },
      "source": [
        "likesDF.join(frequentsDF, likesDF.Drinker == frequentsDF.Drinker, 'left_anti').show()"
      ],
      "execution_count": 20,
      "outputs": [
        {
          "output_type": "stream",
          "name": "stdout",
          "text": [
            "+-------+----+\n",
            "|Drinker|Beer|\n",
            "+-------+----+\n",
            "|   Matt|ARJK|\n",
            "+-------+----+\n",
            "\n"
          ]
        }
      ]
    },
    {
      "cell_type": "code",
      "metadata": {
        "colab": {
          "base_uri": "https://localhost:8080/"
        },
        "id": "Arm7ZKyrHvhf",
        "outputId": "16cbf637-fbf2-4e7f-b4e8-6a518ddbd3b6"
      },
      "source": [
        "likesDF.count()"
      ],
      "execution_count": 21,
      "outputs": [
        {
          "output_type": "execute_result",
          "data": {
            "text/plain": [
              "3"
            ]
          },
          "metadata": {},
          "execution_count": 21
        }
      ]
    },
    {
      "cell_type": "code",
      "metadata": {
        "colab": {
          "base_uri": "https://localhost:8080/"
        },
        "id": "NzGInRipO59s",
        "outputId": "3038900b-0d6a-45d8-a20e-e863c8c09646"
      },
      "source": [
        "df = sqlContext.createDataFrame([('a', 1), ('b', 1), ('b', 1), ('a', 2)], ('id', 'c'))\n",
        "df.show()"
      ],
      "execution_count": 23,
      "outputs": [
        {
          "output_type": "stream",
          "name": "stdout",
          "text": [
            "+---+---+\n",
            "| id|  c|\n",
            "+---+---+\n",
            "|  a|  1|\n",
            "|  b|  1|\n",
            "|  b|  1|\n",
            "|  a|  2|\n",
            "+---+---+\n",
            "\n"
          ]
        }
      ]
    },
    {
      "cell_type": "code",
      "metadata": {
        "colab": {
          "base_uri": "https://localhost:8080/"
        },
        "id": "Zb8tTJrv9Nwm",
        "outputId": "ee71f664-ad26-4fe9-d401-d5df24c164dc"
      },
      "source": [
        "df.distinct().show()"
      ],
      "execution_count": 24,
      "outputs": [
        {
          "output_type": "stream",
          "name": "stdout",
          "text": [
            "+---+---+\n",
            "| id|  c|\n",
            "+---+---+\n",
            "|  a|  1|\n",
            "|  b|  1|\n",
            "|  a|  2|\n",
            "+---+---+\n",
            "\n"
          ]
        }
      ]
    },
    {
      "cell_type": "code",
      "metadata": {
        "colab": {
          "base_uri": "https://localhost:8080/"
        },
        "id": "iGK-bdxoPgYM",
        "outputId": "3b5452fb-e210-418e-a813-bf056df0781e"
      },
      "source": [
        "rdd = df.rdd\n",
        "rdd.collect()"
      ],
      "execution_count": 25,
      "outputs": [
        {
          "output_type": "execute_result",
          "data": {
            "text/plain": [
              "[Row(id='a', c=1), Row(id='b', c=1), Row(id='b', c=1), Row(id='a', c=2)]"
            ]
          },
          "metadata": {},
          "execution_count": 25
        }
      ]
    },
    {
      "cell_type": "code",
      "metadata": {
        "colab": {
          "base_uri": "https://localhost:8080/"
        },
        "id": "cQ_W-Z9APt9C",
        "outputId": "38b13f3f-7c09-464f-afa9-2e492e5df8c5"
      },
      "source": [
        "print(df.rdd.map(list).collect())\n",
        "print(df.rdd.map(tuple).collect())"
      ],
      "execution_count": 26,
      "outputs": [
        {
          "output_type": "stream",
          "name": "stdout",
          "text": [
            "[['a', 1], ['b', 1], ['b', 1], ['a', 2]]\n",
            "[('a', 1), ('b', 1), ('b', 1), ('a', 2)]\n"
          ]
        }
      ]
    },
    {
      "cell_type": "code",
      "metadata": {
        "colab": {
          "base_uri": "https://localhost:8080/"
        },
        "id": "dy4EhLCuP-Es",
        "outputId": "cf010bd7-f0ef-41fd-f092-e95c61c7f0cd"
      },
      "source": [
        "df = sqlContext.createDataFrame([['a'], ['b'], ['b'], ['c']], (['word']))\n",
        "df.show()"
      ],
      "execution_count": 28,
      "outputs": [
        {
          "output_type": "stream",
          "name": "stdout",
          "text": [
            "+----+\n",
            "|word|\n",
            "+----+\n",
            "|   a|\n",
            "|   b|\n",
            "|   b|\n",
            "|   c|\n",
            "+----+\n",
            "\n"
          ]
        }
      ]
    },
    {
      "cell_type": "code",
      "metadata": {
        "colab": {
          "base_uri": "https://localhost:8080/"
        },
        "id": "dHHVma-3QXCO",
        "outputId": "123b3d31-4fc1-4332-cd65-d4f6308945cb"
      },
      "source": [
        "from pyspark.sql.functions import lit\n",
        "new_df = df.withColumn(\"COUNT\", lit(1))\n",
        "\n",
        "new_df.show()"
      ],
      "execution_count": 29,
      "outputs": [
        {
          "output_type": "stream",
          "name": "stdout",
          "text": [
            "+----+-----+\n",
            "|word|COUNT|\n",
            "+----+-----+\n",
            "|   a|    1|\n",
            "|   b|    1|\n",
            "|   b|    1|\n",
            "|   c|    1|\n",
            "+----+-----+\n",
            "\n"
          ]
        }
      ]
    },
    {
      "cell_type": "code",
      "metadata": {
        "colab": {
          "base_uri": "https://localhost:8080/"
        },
        "id": "QIS1YLPtQlWn",
        "outputId": "ed0fe5a9-3ffa-427d-8b81-d793d4c0081b"
      },
      "source": [
        "from pyspark.sql import functions as func\n",
        "new_df.groupby(\"word\").agg(func.sum(\"COUNT\")).show()"
      ],
      "execution_count": 30,
      "outputs": [
        {
          "output_type": "stream",
          "name": "stdout",
          "text": [
            "+----+----------+\n",
            "|word|sum(COUNT)|\n",
            "+----+----------+\n",
            "|   c|         1|\n",
            "|   b|         2|\n",
            "|   a|         1|\n",
            "+----+----------+\n",
            "\n"
          ]
        }
      ]
    },
    {
      "cell_type": "code",
      "metadata": {
        "colab": {
          "base_uri": "https://localhost:8080/"
        },
        "id": "HNTNICxKRHCr",
        "outputId": "cf12e9eb-f3ea-438b-dd14-12c5a06a3956"
      },
      "source": [
        "from pyspark.sql.types import StringType\n",
        "from pyspark.sql.functions import udf\n",
        "\n",
        "l = [('Alice', 25), ('Robert', 12), ('Chris', 45)]\n",
        "\n",
        "df = sqlContext.createDataFrame(l, ['Name', 'Age'])\n",
        "df.show()"
      ],
      "execution_count": 31,
      "outputs": [
        {
          "output_type": "stream",
          "name": "stdout",
          "text": [
            "+------+---+\n",
            "|  Name|Age|\n",
            "+------+---+\n",
            "| Alice| 25|\n",
            "|Robert| 12|\n",
            "| Chris| 45|\n",
            "+------+---+\n",
            "\n"
          ]
        }
      ]
    },
    {
      "cell_type": "code",
      "metadata": {
        "colab": {
          "base_uri": "https://localhost:8080/"
        },
        "id": "yix_nVt3Rmz5",
        "outputId": "e06ce9ed-7f1a-4740-87a0-02a32102ed38"
      },
      "source": [
        "maturity_udf = udf(lambda age: \"Adult\" if age >= 18 else \"Child\", StringType())\n",
        "\n",
        "newdf = df.withColumn(\"Maturity\", maturity_udf(df.Age))\n",
        "newdf.show()"
      ],
      "execution_count": 32,
      "outputs": [
        {
          "output_type": "stream",
          "name": "stdout",
          "text": [
            "+------+---+--------+\n",
            "|  Name|Age|Maturity|\n",
            "+------+---+--------+\n",
            "| Alice| 25|   Adult|\n",
            "|Robert| 12|   Child|\n",
            "| Chris| 45|   Adult|\n",
            "+------+---+--------+\n",
            "\n"
          ]
        }
      ]
    },
    {
      "cell_type": "code",
      "metadata": {
        "colab": {
          "base_uri": "https://localhost:8080/"
        },
        "id": "5rngaUL-R79w",
        "outputId": "ca7eadf5-6e30-4ca9-fe42-dc6d0f3a87e4"
      },
      "source": [
        "df.orderBy(\"Age\", ascending=False).limit(1).show()"
      ],
      "execution_count": 33,
      "outputs": [
        {
          "output_type": "stream",
          "name": "stdout",
          "text": [
            "+-----+---+\n",
            "| Name|Age|\n",
            "+-----+---+\n",
            "|Chris| 45|\n",
            "+-----+---+\n",
            "\n"
          ]
        }
      ]
    },
    {
      "cell_type": "code",
      "metadata": {
        "colab": {
          "base_uri": "https://localhost:8080/"
        },
        "id": "C5EGAgNuSI2Y",
        "outputId": "31ae77ac-d209-4e20-c610-3e69ed3922ea"
      },
      "source": [
        "import numpy as np\n",
        "mat = np.random.rand(8, 1).reshape(4, -1)\n",
        "\n",
        "rdd = sc.parallelize(mat)\n",
        "\n",
        "print(rdd.collect())"
      ],
      "execution_count": 34,
      "outputs": [
        {
          "output_type": "stream",
          "name": "stdout",
          "text": [
            "[array([0.76145764, 0.77517879]), array([0.73927282, 0.61099688]), array([0.09350687, 0.56712965]), array([0.71246351, 0.91992826])]\n"
          ]
        }
      ]
    },
    {
      "cell_type": "code",
      "metadata": {
        "colab": {
          "base_uri": "https://localhost:8080/"
        },
        "id": "ItLFZokdSahm",
        "outputId": "508eb731-43a2-4e3f-ec80-b595361072e1"
      },
      "source": [
        "rdd.reduce(lambda x, y: np.add(x, y))"
      ],
      "execution_count": 35,
      "outputs": [
        {
          "output_type": "execute_result",
          "data": {
            "text/plain": [
              "array([2.30670084, 2.87323357])"
            ]
          },
          "metadata": {},
          "execution_count": 35
        }
      ]
    },
    {
      "cell_type": "code",
      "metadata": {
        "colab": {
          "base_uri": "https://localhost:8080/"
        },
        "id": "xh_z6eCMSqYp",
        "outputId": "3fb6ede9-946c-4bbc-fc6f-fd759f7319a3"
      },
      "source": [
        "from pyspark.ml.linalg import Vectors\n",
        "\n",
        "size = 2\n",
        "\n",
        "data = [(0, Vectors.dense(np.random.rand(size)), ),\n",
        "        (1, Vectors.dense(np.random.rand(size)),),\n",
        "        (1, Vectors.dense(np.random.rand(size)), ),\n",
        "        (0, Vectors.dense(np.random.rand(size)), )]\n",
        "df = sqlContext.createDataFrame(data, [\"Label\", \"features\"])\n",
        "df.show()"
      ],
      "execution_count": 36,
      "outputs": [
        {
          "output_type": "stream",
          "name": "stdout",
          "text": [
            "+-----+--------------------+\n",
            "|Label|            features|\n",
            "+-----+--------------------+\n",
            "|    0|[0.31947673185773...|\n",
            "|    1|[0.46450442485084...|\n",
            "|    1|[0.58704997366646...|\n",
            "|    0|[0.90428815087799...|\n",
            "+-----+--------------------+\n",
            "\n"
          ]
        }
      ]
    },
    {
      "cell_type": "code",
      "metadata": {
        "colab": {
          "base_uri": "https://localhost:8080/"
        },
        "id": "GdJpDimQTfy7",
        "outputId": "88d24ba8-3a9b-4ba9-f1b0-5383b38850c0"
      },
      "source": [
        "a = Vectors.dense(np.round(np.random.rand(size), 2))\n",
        "b = Vectors.dense(np.round(np.random.rand(size), 2))\n",
        "\n",
        "print(a)\n",
        "print(b)\n",
        "\n",
        "\n",
        "np.add(a , b)"
      ],
      "execution_count": 37,
      "outputs": [
        {
          "output_type": "stream",
          "name": "stdout",
          "text": [
            "[0.48,0.38]\n",
            "[0.44,0.31]\n"
          ]
        },
        {
          "output_type": "execute_result",
          "data": {
            "text/plain": [
              "array([0.92, 0.69])"
            ]
          },
          "metadata": {},
          "execution_count": 37
        }
      ]
    },
    {
      "cell_type": "code",
      "metadata": {
        "colab": {
          "base_uri": "https://localhost:8080/"
        },
        "id": "xhP6QQCzT0jo",
        "outputId": "df56a960-10f0-4553-bf62-205aa49cea20"
      },
      "source": [
        "np.random.sample([0, 1])"
      ],
      "execution_count": 39,
      "outputs": [
        {
          "output_type": "execute_result",
          "data": {
            "text/plain": [
              "array([], shape=(0, 1), dtype=float64)"
            ]
          },
          "metadata": {},
          "execution_count": 39
        }
      ]
    },
    {
      "cell_type": "code",
      "metadata": {
        "id": "FqXCMl1uT4iO"
      },
      "source": [
        ""
      ],
      "execution_count": null,
      "outputs": []
    }
  ]
}